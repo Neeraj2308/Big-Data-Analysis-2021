{
  "nbformat": 4,
  "nbformat_minor": 0,
  "metadata": {
    "colab": {
      "name": "Untitled9.ipynb",
      "provenance": [],
      "authorship_tag": "ABX9TyNqyQmH96c/TfV6j1Jv5QU+",
      "include_colab_link": true
    },
    "kernelspec": {
      "name": "python3",
      "display_name": "Python 3"
    },
    "language_info": {
      "name": "python"
    }
  },
  "cells": [
    {
      "cell_type": "markdown",
      "metadata": {
        "id": "view-in-github",
        "colab_type": "text"
      },
      "source": [
        "<a href=\"https://colab.research.google.com/github/Neeraj2308/Big-Data-Analysis-2021/blob/main/Random_numbers.ipynb\" target=\"_parent\"><img src=\"https://colab.research.google.com/assets/colab-badge.svg\" alt=\"Open In Colab\"/></a>"
      ]
    },
    {
      "cell_type": "code",
      "metadata": {
        "id": "heKeM68JkLz4"
      },
      "source": [
        "#random library in python\n",
        "import random as rd\n",
        "from random import *"
      ],
      "execution_count": 1,
      "outputs": []
    },
    {
      "cell_type": "code",
      "metadata": {
        "colab": {
          "base_uri": "https://localhost:8080/"
        },
        "id": "4G6WRDwKkPaj",
        "outputId": "a6eaff62-e558-4200-d16b-11f8c15b6bb4"
      },
      "source": [
        "#generate random numbers between 0 and 1\n",
        "rd.random()"
      ],
      "execution_count": 2,
      "outputs": [
        {
          "output_type": "execute_result",
          "data": {
            "text/plain": [
              "0.6285425736279295"
            ]
          },
          "metadata": {},
          "execution_count": 2
        }
      ]
    },
    {
      "cell_type": "code",
      "metadata": {
        "id": "_pecAKQdkV43"
      },
      "source": [
        "#using seed\n",
        "rd.seed(123456)"
      ],
      "execution_count": 5,
      "outputs": []
    },
    {
      "cell_type": "code",
      "metadata": {
        "colab": {
          "base_uri": "https://localhost:8080/"
        },
        "id": "nPGaoBOgkrUW",
        "outputId": "e5d9d867-a7e0-4fb4-945e-4caf693f2058"
      },
      "source": [
        "rd.random()"
      ],
      "execution_count": 6,
      "outputs": [
        {
          "output_type": "execute_result",
          "data": {
            "text/plain": [
              "0.8056271362589"
            ]
          },
          "metadata": {},
          "execution_count": 6
        }
      ]
    },
    {
      "cell_type": "code",
      "metadata": {
        "id": "giehLc50ktqc"
      },
      "source": [
        "rd.seed(123456)"
      ],
      "execution_count": 8,
      "outputs": []
    },
    {
      "cell_type": "code",
      "metadata": {
        "colab": {
          "base_uri": "https://localhost:8080/"
        },
        "id": "h-H2U7yBkvji",
        "outputId": "d8c88008-5988-47d2-c745-eb9c00f7c0bb"
      },
      "source": [
        "rd.random() #again getting same random number"
      ],
      "execution_count": 9,
      "outputs": [
        {
          "output_type": "execute_result",
          "data": {
            "text/plain": [
              "0.8056271362589"
            ]
          },
          "metadata": {},
          "execution_count": 9
        }
      ]
    },
    {
      "cell_type": "code",
      "metadata": {
        "colab": {
          "base_uri": "https://localhost:8080/"
        },
        "id": "P7w5OG_lk51o",
        "outputId": "384975b8-457b-4571-c4f0-6e92132e34cf"
      },
      "source": [
        "#random integers between a, and b\n",
        "randint(10, 100)"
      ],
      "execution_count": 13,
      "outputs": [
        {
          "output_type": "execute_result",
          "data": {
            "text/plain": [
              "47"
            ]
          },
          "metadata": {},
          "execution_count": 13
        }
      ]
    },
    {
      "cell_type": "code",
      "metadata": {
        "colab": {
          "base_uri": "https://localhost:8080/"
        },
        "id": "0WcwbI31laIt",
        "outputId": "24236dbc-7c47-4308-a25e-354c6039a5d0"
      },
      "source": [
        "# random numbers from population without replacement\n",
        "sample(range(10),6 )\n",
        "# n > k"
      ],
      "execution_count": 17,
      "outputs": [
        {
          "output_type": "execute_result",
          "data": {
            "text/plain": [
              "[7, 2, 0, 4, 1, 3]"
            ]
          },
          "metadata": {},
          "execution_count": 17
        }
      ]
    },
    {
      "cell_type": "code",
      "metadata": {
        "colab": {
          "base_uri": "https://localhost:8080/"
        },
        "id": "XoxgWF90lcZb",
        "outputId": "4ec881c8-dc0d-4da2-c021-dee323ebbb3a"
      },
      "source": [
        "#to get sample from a population with replacement\n",
        "choices(range(10), k =15)"
      ],
      "execution_count": 19,
      "outputs": [
        {
          "output_type": "execute_result",
          "data": {
            "text/plain": [
              "[8, 7, 0, 1, 0, 5, 4, 8, 1, 5, 9, 1, 0, 8, 6]"
            ]
          },
          "metadata": {},
          "execution_count": 19
        }
      ]
    },
    {
      "cell_type": "code",
      "metadata": {
        "colab": {
          "base_uri": "https://localhost:8080/"
        },
        "id": "kf1aDmoJl1Q6",
        "outputId": "6fbc8b7e-842a-4d2b-b265-a09e14ba2fa5"
      },
      "source": [
        "#uniform distribution\n",
        "uniform(10, 14)"
      ],
      "execution_count": 20,
      "outputs": [
        {
          "output_type": "execute_result",
          "data": {
            "text/plain": [
              "10.316505248049598"
            ]
          },
          "metadata": {},
          "execution_count": 20
        }
      ]
    },
    {
      "cell_type": "code",
      "metadata": {
        "colab": {
          "base_uri": "https://localhost:8080/"
        },
        "id": "qyHOHLhOmPb-",
        "outputId": "94bfa15a-6134-4ce0-e37e-b4dd3b7863a5"
      },
      "source": [
        "#from normal distribution\n",
        "normalvariate(10, 1)"
      ],
      "execution_count": 21,
      "outputs": [
        {
          "output_type": "execute_result",
          "data": {
            "text/plain": [
              "9.041746697889748"
            ]
          },
          "metadata": {},
          "execution_count": 21
        }
      ]
    }
  ]
}