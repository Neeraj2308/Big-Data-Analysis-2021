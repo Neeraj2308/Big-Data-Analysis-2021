{
 "cells": [
  {
   "cell_type": "markdown",
   "metadata": {},
   "source": [
    "### More on Functions\n",
    "#### Providing Default values in Function"
   ]
  },
  {
   "cell_type": "code",
   "execution_count": 12,
   "metadata": {},
   "outputs": [
    {
     "data": {
      "text/plain": [
       "11"
      ]
     },
     "execution_count": 12,
     "metadata": {},
     "output_type": "execute_result"
    }
   ],
   "source": [
    "def addthree(a , b , c = 1):\n",
    "    return(a + b + c)\n",
    "\n",
    "addthree(b = 4, c = 5)"
   ]
  },
  {
   "cell_type": "code",
   "execution_count": 13,
   "metadata": {},
   "outputs": [],
   "source": [
    "def docomplex(a, b, Print = False):\n",
    "    c = (a*b + a**2 + b**2) / (a + b)\n",
    "    if Print:\n",
    "        print(c)\n",
    "    else:\n",
    "        return(c)\n",
    "    "
   ]
  },
  {
   "cell_type": "code",
   "execution_count": 18,
   "metadata": {},
   "outputs": [
    {
     "name": "stdout",
     "output_type": "stream",
     "text": [
      "6.777777777777778\n"
     ]
    }
   ],
   "source": [
    "a = docomplex(4, 5, True)"
   ]
  },
  {
   "cell_type": "code",
   "execution_count": 19,
   "metadata": {},
   "outputs": [],
   "source": [
    "a #no output"
   ]
  },
  {
   "cell_type": "markdown",
   "metadata": {},
   "source": [
    "## `for` Loop"
   ]
  },
  {
   "cell_type": "code",
   "execution_count": 21,
   "metadata": {},
   "outputs": [
    {
     "name": "stdout",
     "output_type": "stream",
     "text": [
      "7\n",
      "22\n",
      "32\n",
      "37\n"
     ]
    }
   ],
   "source": [
    "### For Loop\n",
    "for udit in (1, 4, 6, 7):\n",
    "    c = udit * 5 + 2\n",
    "    print(c)\n",
    "    \n"
   ]
  },
  {
   "cell_type": "code",
   "execution_count": 23,
   "metadata": {},
   "outputs": [
    {
     "name": "stdout",
     "output_type": "stream",
     "text": [
      "H\n",
      "a\n",
      "r\n",
      "d\n",
      "i\n",
      "k\n",
      " \n",
      "J\n",
      "a\n",
      "i\n",
      "m\n",
      "i\n",
      "n\n",
      "i\n",
      "1\n",
      "4\n",
      "6\n",
      "7\n"
     ]
    }
   ],
   "source": [
    "for i in \"Hardik Jaimini\":\n",
    "    print(i)\n"
   ]
  },
  {
   "cell_type": "markdown",
   "metadata": {},
   "source": [
    "##### `break` in `for` loop"
   ]
  },
  {
   "cell_type": "code",
   "execution_count": 28,
   "metadata": {},
   "outputs": [
    {
     "name": "stdout",
     "output_type": "stream",
     "text": [
      "113\n"
     ]
    }
   ],
   "source": [
    "Tu = (12, 45, 56, 12, 34)\n",
    "s = 0\n",
    "for j in Tu:\n",
    "    s = s + j\n",
    "    if s > 100:\n",
    "        break\n",
    "\n",
    "print(s)"
   ]
  },
  {
   "cell_type": "code",
   "execution_count": 27,
   "metadata": {},
   "outputs": [
    {
     "data": {
      "text/plain": [
       "159"
      ]
     },
     "execution_count": 27,
     "metadata": {},
     "output_type": "execute_result"
    }
   ],
   "source": [
    "s"
   ]
  },
  {
   "cell_type": "markdown",
   "metadata": {},
   "source": [
    "##### Problem 1: Write a programme that returns sum of the digits for a given number"
   ]
  },
  {
   "cell_type": "code",
   "execution_count": 29,
   "metadata": {},
   "outputs": [
    {
     "name": "stdout",
     "output_type": "stream",
     "text": [
      "Enter any four digit positive integer: 3456\n",
      "18\n"
     ]
    }
   ],
   "source": [
    "a = input(\"Enter any four digit positive integer: \")\n",
    "Sum = 0\n",
    "\n",
    "if len(a) == 4:\n",
    "    for i in a:\n",
    "        Sum = Sum + int(i)\n",
    "else:\n",
    "    print(\"Number is not a four digit number\")\n",
    "\n",
    "if int(a) >= 1000 and int(a) <= 9999:\n",
    "    for i in a:\n",
    "        Sum = Sum + int(i)\n",
    "else:\n",
    "    print(\"Number is not a four digit number\")\n",
    "    "
   ]
  },
  {
   "cell_type": "markdown",
   "metadata": {},
   "source": [
    "##### More general code for problem 1"
   ]
  },
  {
   "cell_type": "code",
   "execution_count": 17,
   "metadata": {},
   "outputs": [
    {
     "name": "stdout",
     "output_type": "stream",
     "text": [
      "Enter any number: -12.0812002\n",
      "16\n"
     ]
    }
   ],
   "source": [
    "num = input(\"Enter any number: \")\n",
    "Sum = 0\n",
    "for i in num:\n",
    "    if i in \"-+.\":\n",
    "        Sum = Sum + 0\n",
    "    else:\n",
    "        Sum = Sum + int(i)\n",
    "print(Sum)"
   ]
  },
  {
   "cell_type": "markdown",
   "metadata": {},
   "source": [
    "###### Method 2"
   ]
  },
  {
   "cell_type": "code",
   "execution_count": 20,
   "metadata": {},
   "outputs": [
    {
     "name": "stdout",
     "output_type": "stream",
     "text": [
      "Enter any number: -12.34\n",
      "10\n"
     ]
    }
   ],
   "source": [
    "num = input(\"Enter any number: \")\n",
    "Sum = 0\n",
    "for i in num:\n",
    "    if i not in \"-+.\":\n",
    "        Sum = Sum + int(i)\n",
    "print(Sum)"
   ]
  },
  {
   "cell_type": "markdown",
   "metadata": {},
   "source": [
    "##### Problem 2: Write a programme that removes white space from user input"
   ]
  },
  {
   "cell_type": "code",
   "execution_count": 28,
   "metadata": {},
   "outputs": [
    {
     "name": "stdout",
     "output_type": "stream",
     "text": [
      "EnterAnything: Kanishk Kaur \n",
      "KanishkKaur\n"
     ]
    }
   ],
   "source": [
    "anything = input(\"EnterAnything: \")\n",
    "a = str()\n",
    "for i in anything:\n",
    "    if i != \" \":\n",
    "        a += i\n",
    "print(a)"
   ]
  },
  {
   "cell_type": "markdown",
   "metadata": {},
   "source": [
    "##### Problem 2: Write a programme that removes all special characters from user input"
   ]
  },
  {
   "cell_type": "code",
   "execution_count": 33,
   "metadata": {},
   "outputs": [
    {
     "name": "stdout",
     "output_type": "stream",
     "text": [
      "Enter anything: \"Hello HItesh Chopra?#-Arnav Mahajan-~::\"\n",
      "Hello HItesh ChopraArnav Mahajan\n"
     ]
    }
   ],
   "source": [
    "a = input('Enter anything: ')\n",
    "new = ''\n",
    "for i in a:\n",
    "     if i in \"@#£_&()/+-*:;<!?,'[]%\\{}>=°^¢$¥€~`\" or i in '\"' :\n",
    "          new = new + ''\n",
    "     else:\n",
    "          new = new + i\n",
    "print(new)"
   ]
  }
 ],
 "metadata": {
  "kernelspec": {
   "display_name": "Python 3",
   "language": "python",
   "name": "python3"
  },
  "language_info": {
   "codemirror_mode": {
    "name": "ipython",
    "version": 3
   },
   "file_extension": ".py",
   "mimetype": "text/x-python",
   "name": "python",
   "nbconvert_exporter": "python",
   "pygments_lexer": "ipython3",
   "version": "3.7.6"
  }
 },
 "nbformat": 4,
 "nbformat_minor": 4
}
