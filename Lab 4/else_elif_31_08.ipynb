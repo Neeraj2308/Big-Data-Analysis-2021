{
 "cells": [
  {
   "cell_type": "code",
   "execution_count": 1,
   "metadata": {},
   "outputs": [
    {
     "name": "stdout",
     "output_type": "stream",
     "text": [
      "Enter any number: 12.45\n",
      "Number is positive\n"
     ]
    }
   ],
   "source": [
    "num = input(\"Enter any number: \")\n",
    "num = float(num)\n",
    "if num > 0:\n",
    "    print(\"Number is positive\")\n",
    "if num < 0:\n",
    "    print(\"Number is negative\")\n",
    "if num == 0:\n",
    "    print(\"N P N N\")"
   ]
  },
  {
   "cell_type": "code",
   "execution_count": 3,
   "metadata": {},
   "outputs": [
    {
     "name": "stdout",
     "output_type": "stream",
     "text": [
      "Enter any number: 0\n",
      "Number is negaitve\n"
     ]
    }
   ],
   "source": [
    "#else (at lease one condition will be executed, and in this case exactly one will always be \n",
    "#executed.)\n",
    "num = float(input(\"Enter any number: \"))\n",
    "if num > 0:\n",
    "    print(\"Number is positive\")\n",
    "else:\n",
    "    print(\"Number is negaitve\")\n"
   ]
  },
  {
   "cell_type": "code",
   "execution_count": 5,
   "metadata": {},
   "outputs": [
    {
     "name": "stdout",
     "output_type": "stream",
     "text": [
      "Enter any integer: 0\n",
      "Even number\n"
     ]
    }
   ],
   "source": [
    "#odd-even number\n",
    "num = int(input(\"Enter any integer: \"))\n",
    "if num % 2 == 0:\n",
    "    print(\"Even number\")\n",
    "else:\n",
    "    print(\"Odd number\")"
   ]
  },
  {
   "cell_type": "code",
   "execution_count": 6,
   "metadata": {},
   "outputs": [
    {
     "name": "stdout",
     "output_type": "stream",
     "text": [
      "Enter any number: -34.56\n",
      "Number is negative\n"
     ]
    }
   ],
   "source": [
    "# elif\n",
    "num = float(input(\"Enter any number: \"))\n",
    "if num > 0:\n",
    "    print(\"Number is positive\")\n",
    "elif num < 0:\n",
    "    print(\"Number is negative\")\n",
    "else:\n",
    "    print(\"N P N N\")"
   ]
  },
  {
   "cell_type": "code",
   "execution_count": 22,
   "metadata": {},
   "outputs": [
    {
     "name": "stdout",
     "output_type": "stream",
     "text": [
      "Enter your marks: 120\n",
      "Invalid input\n"
     ]
    }
   ],
   "source": [
    "#Provide grade for the marks\n",
    "# N < 0, N > 100: Incorrect Input\n",
    "# N >= 90: A\n",
    "# N >= 75, N < 90: B\n",
    "# N >= 60, N < 75: C\n",
    "# N >= 40, N < 60: D\n",
    "# N < 40, F\n",
    "\n",
    "marks = float(input(\"Enter your marks: \"))\n",
    "if marks > 100 or marks < 0: \n",
    "    print(\"Invalid input\")\n",
    "elif marks < 40:\n",
    "    print(\"Grade F\")\n",
    "elif marks < 60:\n",
    "    print(\"Grade D\")\n",
    "elif marks < 75:\n",
    "    print(\"Grade C\")\n",
    "elif marks < 90:\n",
    "    print(\"Grade B\")\n",
    "else:\n",
    "    print(\"Grade A\")"
   ]
  },
  {
   "cell_type": "code",
   "execution_count": 23,
   "metadata": {},
   "outputs": [
    {
     "data": {
      "text/plain": [
       "True"
      ]
     },
     "execution_count": 23,
     "metadata": {},
     "output_type": "execute_result"
    }
   ],
   "source": [
    "True and True"
   ]
  },
  {
   "cell_type": "code",
   "execution_count": 17,
   "metadata": {},
   "outputs": [
    {
     "data": {
      "text/plain": [
       "False"
      ]
     },
     "execution_count": 17,
     "metadata": {},
     "output_type": "execute_result"
    }
   ],
   "source": [
    "2 > 1 and 4 > 7"
   ]
  },
  {
   "cell_type": "code",
   "execution_count": 18,
   "metadata": {},
   "outputs": [
    {
     "data": {
      "text/plain": [
       "True"
      ]
     },
     "execution_count": 18,
     "metadata": {},
     "output_type": "execute_result"
    }
   ],
   "source": [
    "True or False"
   ]
  },
  {
   "cell_type": "code",
   "execution_count": 19,
   "metadata": {},
   "outputs": [
    {
     "data": {
      "text/plain": [
       "False"
      ]
     },
     "execution_count": 19,
     "metadata": {},
     "output_type": "execute_result"
    }
   ],
   "source": [
    "False or False"
   ]
  },
  {
   "cell_type": "code",
   "execution_count": null,
   "metadata": {},
   "outputs": [],
   "source": []
  }
 ],
 "metadata": {
  "kernelspec": {
   "display_name": "Python 3",
   "language": "python",
   "name": "python3"
  },
  "language_info": {
   "codemirror_mode": {
    "name": "ipython",
    "version": 3
   },
   "file_extension": ".py",
   "mimetype": "text/x-python",
   "name": "python",
   "nbconvert_exporter": "python",
   "pygments_lexer": "ipython3",
   "version": "3.7.6"
  }
 },
 "nbformat": 4,
 "nbformat_minor": 4
}
