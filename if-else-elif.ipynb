{
  "nbformat": 4,
  "nbformat_minor": 0,
  "metadata": {
    "colab": {
      "provenance": [],
      "collapsed_sections": [],
      "authorship_tag": "ABX9TyPVRideamlPkEs4aL+wE/kh",
      "include_colab_link": true
    },
    "kernelspec": {
      "name": "python3",
      "display_name": "Python 3"
    },
    "language_info": {
      "name": "python"
    }
  },
  "cells": [
    {
      "cell_type": "markdown",
      "metadata": {
        "id": "view-in-github",
        "colab_type": "text"
      },
      "source": [
        "<a href=\"https://colab.research.google.com/github/Neeraj2308/Big-Data-Analysis-2021/blob/main/Untitled5.ipynb\" target=\"_parent\"><img src=\"https://colab.research.google.com/assets/colab-badge.svg\" alt=\"Open In Colab\"/></a>"
      ]
    },
    {
      "cell_type": "markdown",
      "source": [
        "Q1: A company decided to give bonus of 5% to employee if his/her year of service is more than 5 years. Ask user for their salary and year of service and print the net bonus amount."
      ],
      "metadata": {
        "id": "OqDXQDFs5_Dr"
      }
    },
    {
      "cell_type": "code",
      "source": [
        "salary = float(input(\"Enter your salary: \"))\n",
        "expr = float(input(\"Enter years of service: \"))\n",
        "if expr > 5: \n",
        "  print(\"The bonus is \", salary*.05)\n",
        "else: \n",
        "  print(\"Since, year of experience is less than 5, and hence no bonus.\")"
      ],
      "metadata": {
        "colab": {
          "base_uri": "https://localhost:8080/"
        },
        "id": "RLhIkKmq6XkE",
        "outputId": "801df7ab-377e-4372-d6a5-2b1faa1c6481"
      },
      "execution_count": 2,
      "outputs": [
        {
          "output_type": "stream",
          "name": "stdout",
          "text": [
            "Enter your salary: 100\n",
            "Enter years of service: 4\n",
            "Since, year of experience is less than 5, and hence no bonus.\n"
          ]
        }
      ]
    },
    {
      "cell_type": "markdown",
      "source": [
        "Q2:Take values of length and breadth of a rectangle from user and check if it is square or not."
      ],
      "metadata": {
        "id": "Eshrjm9f7Azs"
      }
    },
    {
      "cell_type": "code",
      "source": [
        "l = float(input(\"Enter length: \"))\n",
        "b = float(input(\"Enter breadht: \"))\n",
        "\n",
        "if l == b :\n",
        "  print(\"It is a square\")\n",
        "else: \n",
        "  print(\"It is not a square\")"
      ],
      "metadata": {
        "colab": {
          "base_uri": "https://localhost:8080/"
        },
        "id": "VRuWv4kr7E3t",
        "outputId": "7b288dda-4248-4af8-f7b5-d742785a60ba"
      },
      "execution_count": 4,
      "outputs": [
        {
          "output_type": "stream",
          "name": "stdout",
          "text": [
            "Enter length: 12\n",
            "Enter breadht: 13\n",
            "It is not a square\n"
          ]
        }
      ]
    },
    {
      "cell_type": "markdown",
      "source": [
        "Q3: A school has following rules for grading system:\n",
        "1. Below 25 - F\n",
        "2. 25 to 45 - E\n",
        "3. 45 to 50 - D\n",
        "4. 50 to 60 - C\n",
        "5. 60 to 80 - B\n",
        "6. Above 80 - A\n",
        "\n",
        "Ask user to enter marks and print the corresponding grade."
      ],
      "metadata": {
        "id": "9z0CNMrs7hHc"
      }
    },
    {
      "cell_type": "code",
      "source": [
        "marks = float(input(\"Enter marks: \"))\n",
        "if(marks < 0 or marks > 100):\n",
        "  print(\"Invalid Input. Marks should be within 0-100\")\n",
        "elif(marks < 25):\n",
        "  print(\"Your grade is F\")\n",
        "elif(marks < 45):\n",
        "  print(\"Your grade is E\")\n",
        "elif marks < 50: \n",
        "  print(\"Your grade is D\")\n",
        "elif marks < 60: \n",
        "  print(\"Your grade is C\")\n",
        "elif marks < 80: \n",
        "  print(\"Your grade is B\")\n",
        "else: \n",
        "  print(\"Your grade is A\")"
      ],
      "metadata": {
        "colab": {
          "base_uri": "https://localhost:8080/"
        },
        "id": "qfmCBxNb78ts",
        "outputId": "dcac06d3-d5f4-421c-f7a0-1dd4519e2bb1"
      },
      "execution_count": 11,
      "outputs": [
        {
          "output_type": "stream",
          "name": "stdout",
          "text": [
            "Enter marks: 101\n",
            "Invalid Input. Marks should be within 0-100\n"
          ]
        }
      ]
    },
    {
      "cell_type": "markdown",
      "source": [
        "Q4: Take input of age of 3 people by user and determine oldest and youngest among them.\n"
      ],
      "metadata": {
        "id": "T0i-5GPN9MNu"
      }
    },
    {
      "cell_type": "code",
      "source": [
        "name1 = float(input(\"Enter the age of Keju: \"))\n",
        "name2 = float(input(\"Enter the age of Pappu: \"))\n",
        "name3 = float(input(\"Enter the age of Akku: \"))\n",
        "\n",
        "if name1 > name2 and name1 > name3: \n",
        "  print(\"Keju is oldest\")\n",
        "  if name2 > name3:\n",
        "    print(\"Akku is youngest\")\n",
        "  else: \n",
        "    print(\"Pappu is youngest\")\n",
        "elif name2 > name3:\n",
        "  print(\"Pappy is oldest\")\n",
        "  if name1 > name3:\n",
        "    print(\"Akku is youngest\")\n",
        "  else: \n",
        "    print(\"Keju is youngest\")\n",
        "else: \n",
        "  print(\"Akku is oldest\")\n",
        "  if name1 > name2: \n",
        "    print(\"Pappu is youngest\")\n",
        "  else: \n",
        "    print(\"Keju is youngest\")"
      ],
      "metadata": {
        "colab": {
          "base_uri": "https://localhost:8080/"
        },
        "id": "1rPztjAe9SBW",
        "outputId": "dceb9557-6ede-469e-e27e-f1f2e75ceb6c"
      },
      "execution_count": 15,
      "outputs": [
        {
          "output_type": "stream",
          "name": "stdout",
          "text": [
            "Enter the age of Keju: 40\n",
            "Enter the age of Pappu: 42\n",
            "Enter the age of Akku: 39\n",
            "Pappy is oldest\n",
            "Akku is youngest\n"
          ]
        }
      ]
    },
    {
      "cell_type": "code",
      "source": [
        "#Second Method (more easy)\n",
        "name1 = float(input(\"Enter the age of Keju: \"))\n",
        "name2 = float(input(\"Enter the age of Pappu: \"))\n",
        "name3 = float(input(\"Enter the age of Akku: \"))\n",
        "\n",
        "if name1 > name2 and name1 > name3: \n",
        "  print(\"Keju is oldest\")\n",
        "elif name2 > name3:\n",
        "  print(\"Pappu is oldest\")\n",
        "else: \n",
        "  print(\"Akku is oldest\")\n",
        "\n",
        "if name1 < name2 and name1 < name3:\n",
        "  print(\"Keju is Youngest\")\n",
        "elif name2 < name3: \n",
        "  print(\"Pappu is youngest\")\n",
        "else:\n",
        "  print(\"Akku is youngest\")\n"
      ],
      "metadata": {
        "colab": {
          "base_uri": "https://localhost:8080/"
        },
        "id": "JS8Pw4t1Ap5i",
        "outputId": "f22e8e72-99ef-421d-bfcb-e721d87861fe"
      },
      "execution_count": 18,
      "outputs": [
        {
          "output_type": "stream",
          "name": "stdout",
          "text": [
            "Enter the age of Keju: 34\n",
            "Enter the age of Pappu: 40\n",
            "Enter the age of Akku: 25\n",
            "Pappy is oldest\n",
            "Akku is youngest\n"
          ]
        }
      ]
    },
    {
      "cell_type": "markdown",
      "source": [
        "Q5: A student will not be allowed to sit in exam if his/her attendence is less than 75%.\n",
        "Take following input from user\n",
        "1. Number of classes held\n",
        "2. Number of classes attended.\n",
        "\n",
        "And print\n",
        "1. percentage of class attended\n",
        "2.  Is student is allowed to sit in exam or not."
      ],
      "metadata": {
        "id": "5zyJ7mVwBedj"
      }
    },
    {
      "cell_type": "code",
      "source": [
        "ch = float(input(\"Enter the number of classes held: \"))\n",
        "ca = float(input(\"Enter the number of classes attended: \"))\n",
        "\n",
        "pa = (ca/ch) * 100\n",
        "\n",
        "if pa > 100: \n",
        "  print(\"Class attended can not be more than held.\")\n",
        "elif pa < 75: \n",
        "  print(\"You are not allowed to sit in the exam.\")\n",
        "else: \n",
        "  print(\"You are allowed to sit in the exam.\")\n",
        "\n",
        "if pa <= 100:\n",
        "  print(\"Your attendance is\", pa)\n",
        "\n",
        "#Above code make sure, no message is written twice."
      ],
      "metadata": {
        "colab": {
          "base_uri": "https://localhost:8080/"
        },
        "id": "tOlmx4erBqAK",
        "outputId": "7f48c146-2d67-4788-e00e-97b2f3946d4f"
      },
      "execution_count": 22,
      "outputs": [
        {
          "output_type": "stream",
          "name": "stdout",
          "text": [
            "Enter the number of classes held: 23\n",
            "Enter the number of classes attended: 20\n",
            "You are allowed to sit in the exam.\n",
            "Your attendance is 86.95652173913044\n"
          ]
        }
      ]
    },
    {
      "cell_type": "markdown",
      "source": [
        "Q6: Write a program to check whether the last digit of a number (entered by user) is divisible by 3 or not."
      ],
      "metadata": {
        "id": "kRoTSNagDZpK"
      }
    },
    {
      "cell_type": "code",
      "source": [
        "num = float(input(\"Enter any positive integer: \"))\n",
        "\n",
        "ld = num % 10\n",
        "if ld % 3 == 0:\n",
        "  print(\"Last digit of a number is divisible by 3.\")\n",
        "else:\n",
        "  print(\"Last digit is not divisible by 3.\")"
      ],
      "metadata": {
        "colab": {
          "base_uri": "https://localhost:8080/"
        },
        "id": "cBEUm-UHDfIz",
        "outputId": "b6211775-af1d-4f2b-bf69-322d6e32f1c5"
      },
      "execution_count": 27,
      "outputs": [
        {
          "output_type": "stream",
          "name": "stdout",
          "text": [
            "Enter any positive integer: 8691\n",
            "Last digit is not divisible.\n"
          ]
        }
      ]
    },
    {
      "cell_type": "markdown",
      "source": [
        "Q7: Write a programme that returns present value of an annuity. Take all necessary inputs from the users, and put condition on the validity of each inputs. In case of incorrect input, provide readable message to the user."
      ],
      "metadata": {
        "id": "EPmPEcWVEQQd"
      }
    },
    {
      "cell_type": "code",
      "source": [
        "amount = float(input(\"Enter annuity amount: \"))\n",
        "intt = float(input(\"Enter rate of interest (in percentage): \"))\n",
        "n = float(input(\"Enter number of payments made each year: \"))\n",
        "\n",
        "amountc = amount < 0 #amount should be positive\n",
        "intt = intt / 100\n",
        "inttc = intt < 0 #interest should be positive\n",
        "nc1 = n < 0 #fist n check is it is must be positive\n",
        "nc2 = (n - int(n)) != 0 #n must be integer\n",
        "\n",
        "#now printing error for each case: \n",
        "if amountc: \n",
        "  print(\"Amount should be positive.\")\n",
        "if inttc:\n",
        "  print(\"Interest rate should be positive.\")\n",
        "if nc1: \n",
        "  print(\"number of payments must be positive.\")\n",
        "if nc2: \n",
        "  print(\"number of payments must be integer.\")\n",
        "\n",
        "allcond = amountc + inttc + nc1 + nc2 #if any condition above is True then \n",
        "# sum of allcond >= 1\n",
        "\n",
        "if intt == 0 and allcond == 0:\n",
        "  pva = amount * n\n",
        "  print(\"Present value of annuity is\", pva)\n",
        "\n",
        "if intt > 0 and allcond == 0:\n",
        "  pva = amount * ((1 - (1+intt)**(-n))/intt)\n",
        "  print(\"Present value of annuity is\", pva)\n"
      ],
      "metadata": {
        "colab": {
          "base_uri": "https://localhost:8080/"
        },
        "id": "m9EVWx7vEWwK",
        "outputId": "e0ff01dd-972f-403a-db1a-461b256c6786"
      },
      "execution_count": 33,
      "outputs": [
        {
          "output_type": "stream",
          "name": "stdout",
          "text": [
            "Enter annuity amount: 100\n",
            "Enter rate of interest (in percentage): 10\n",
            "Enter number of payments made each year: 10\n",
            "Present value of annuity is 614.4567105704685\n"
          ]
        }
      ]
    }
  ]
}
