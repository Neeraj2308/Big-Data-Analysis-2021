{
  "nbformat": 4,
  "nbformat_minor": 0,
  "metadata": {
    "colab": {
      "provenance": [],
      "authorship_tag": "ABX9TyNJUBNO7d4pjnBqW2xjvoRi",
      "include_colab_link": true
    },
    "kernelspec": {
      "name": "python3",
      "display_name": "Python 3"
    },
    "language_info": {
      "name": "python"
    }
  },
  "cells": [
    {
      "cell_type": "markdown",
      "metadata": {
        "id": "view-in-github",
        "colab_type": "text"
      },
      "source": [
        "<a href=\"https://colab.research.google.com/github/Neeraj2308/Big-Data-Analysis-2021/blob/main/Copy_of_Untitled5.ipynb\" target=\"_parent\"><img src=\"https://colab.research.google.com/assets/colab-badge.svg\" alt=\"Open In Colab\"/></a>"
      ]
    },
    {
      "cell_type": "markdown",
      "source": [
        "Q1: A company decided to give bonus of 5% to employee if his/her year of service is more than 5 years. Ask user for their salary and year of service and print the net bonus amount."
      ],
      "metadata": {
        "id": "OqDXQDFs5_Dr"
      }
    },
    {
      "cell_type": "code",
      "source": [
        "salary = float(input(\"Enter your salary: \"))\n",
        "expr = float(input(\"Enter years of service: \"))\n",
        "if expr > 5: \n",
        "  print(\"The bonus is \", salary*.05)\n",
        "else: \n",
        "  print(\"Since, year of experience is less than 5, and hence no bonus.\")"
      ],
      "metadata": {
        "colab": {
          "base_uri": "https://localhost:8080/"
        },
        "id": "RLhIkKmq6XkE",
        "outputId": "801df7ab-377e-4372-d6a5-2b1faa1c6481"
      },
      "execution_count": null,
      "outputs": [
        {
          "output_type": "stream",
          "name": "stdout",
          "text": [
            "Enter your salary: 100\n",
            "Enter years of service: 4\n",
            "Since, year of experience is less than 5, and hence no bonus.\n"
          ]
        }
      ]
    },
    {
      "cell_type": "markdown",
      "source": [
        "Q2:Take values of length and breadth of a rectangle from user and check if it is square or not."
      ],
      "metadata": {
        "id": "Eshrjm9f7Azs"
      }
    },
    {
      "cell_type": "code",
      "source": [
        "l = float(input(\"Enter length: \"))\n",
        "b = float(input(\"Enter breadht: \"))\n",
        "\n",
        "if l == b :\n",
        "  print(\"It is a square\")\n",
        "else: \n",
        "  print(\"It is not a square\")"
      ],
      "metadata": {
        "colab": {
          "base_uri": "https://localhost:8080/"
        },
        "id": "VRuWv4kr7E3t",
        "outputId": "7b288dda-4248-4af8-f7b5-d742785a60ba"
      },
      "execution_count": null,
      "outputs": [
        {
          "output_type": "stream",
          "name": "stdout",
          "text": [
            "Enter length: 12\n",
            "Enter breadht: 13\n",
            "It is not a square\n"
          ]
        }
      ]
    },
    {
      "cell_type": "markdown",
      "source": [
        "Q3: A school has following rules for grading system:\n",
        "1. Below 25 - F\n",
        "2. 25 to 45 - E\n",
        "3. 45 to 50 - D\n",
        "4. 50 to 60 - C\n",
        "5. 60 to 80 - B\n",
        "6. Above 80 - A\n",
        "\n",
        "Ask user to enter marks and print the corresponding grade."
      ],
      "metadata": {
        "id": "9z0CNMrs7hHc"
      }
    },
    {
      "cell_type": "code",
      "source": [
        "marks = float(input(\"Enter marks: \"))\n",
        "if(marks < 0 or marks > 100):\n",
        "  print(\"Invalid Input. Marks should be within 0-100\")\n",
        "elif(marks < 25):\n",
        "  print(\"Your grade is F\")\n",
        "elif(marks < 45):\n",
        "  print(\"Your grade is E\")\n",
        "elif marks < 50: \n",
        "  print(\"Your grade is D\")\n",
        "elif marks < 60: \n",
        "  print(\"Your grade is C\")\n",
        "elif marks < 80: \n",
        "  print(\"Your grade is B\")\n",
        "else: \n",
        "  print(\"Your grade is A\")"
      ],
      "metadata": {
        "id": "qfmCBxNb78ts"
      },
      "execution_count": null,
      "outputs": []
    }
  ]
}