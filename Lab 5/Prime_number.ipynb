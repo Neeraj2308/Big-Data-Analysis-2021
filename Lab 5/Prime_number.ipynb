{
 "cells": [
  {
   "cell_type": "code",
   "execution_count": 15,
   "metadata": {},
   "outputs": [
    {
     "name": "stdout",
     "output_type": "stream",
     "text": [
      "Enter positive integer: 34\n",
      "Number is not a prime number!!\n"
     ]
    }
   ],
   "source": [
    "#Programme for Prime Number\n",
    "num = float(input(\"Enter positive integer: \"))\n",
    "check = 2\n",
    "while check < num:\n",
    "    if num % check == 0:\n",
    "        print(\"Number is not a prime number!!\")\n",
    "        break\n",
    "    check = check + 1\n",
    "    #print(check)\n",
    "if num == check:\n",
    "    print(\"Number is prime!!\")\n",
    "\n"
   ]
  },
  {
   "cell_type": "code",
   "execution_count": 5,
   "metadata": {},
   "outputs": [
    {
     "name": "stdout",
     "output_type": "stream",
     "text": [
      "Enter a positive integer >2 :9\n",
      "It's a prime no.\n"
     ]
    }
   ],
   "source": [
    "#Kanishk\n",
    "#wrong\n",
    "n= int(input(\"Enter a positive integer >2 :\"))\n",
    "x=2\n",
    "while x<n:\n",
    "    if n%x==0:\n",
    "        print(\"It's a composite no.\")\n",
    "    break\n",
    "    x=x+1"
   ]
  },
  {
   "cell_type": "code",
   "execution_count": 9,
   "metadata": {},
   "outputs": [
    {
     "name": "stdout",
     "output_type": "stream",
     "text": [
      "Enter any positive integer: 37\n",
      "Number is a prime number\n"
     ]
    }
   ],
   "source": [
    "#Tejdeep\n",
    "num = float(input('Enter any positive integer: '))\n",
    "x = 2\n",
    "while x < num:\n",
    "    if num % x == 0:\n",
    "        print ('Number is not a prime number')\n",
    "        break\n",
    "    x = x + 1\n",
    "else:\n",
    "    print('Number is a prime number')"
   ]
  }
 ],
 "metadata": {
  "kernelspec": {
   "display_name": "Python 3",
   "language": "python",
   "name": "python3"
  }
 },
 "nbformat": 4,
 "nbformat_minor": 4
}
